{
 "cells": [
  {
   "cell_type": "markdown",
   "metadata": {},
   "source": [
    "# Volcanoes and Emissions\n",
    "\n",
    "### Building a visualization similar to this app http://volcano.si.axismaps.io/ "
   ]
  },
  {
   "cell_type": "markdown",
   "metadata": {},
   "source": [
    "### Imports and function definitions"
   ]
  },
  {
   "cell_type": "code",
   "execution_count": 116,
   "metadata": {},
   "outputs": [],
   "source": [
    "#This directory contains all the data needed for the module. It should be in the same directory as the notebook\n",
    "dataFolder = \"data\" \n",
    "import sys, os, shutil, errno, string, urllib\n",
    "\n",
    "\n",
    "sys.path.append(( os.path.abspath( os.path.join(os.path.realpath(\"__file__\"),  os.pardir, os.pardir) )))\n",
    "import uvmodlib.v1 as uvmod"
   ]
  },
  {
   "cell_type": "markdown",
   "metadata": {},
   "source": [
    "### USES Conf Template for Equirectangular Panoramas, plus Volcanoes and Emissions"
   ]
  },
  {
   "cell_type": "code",
   "execution_count": 250,
   "metadata": {},
   "outputs": [],
   "source": [
    "VEMapTemplate='''mesh\n",
    "{\n",
    "    data panorama ./modules/$folderName/sphere.obj\n",
    "    data vData    ./modules/$folderName/E3WebApp_Eruptions1960.raw\n",
    "    data eData    ./modules/$folderName/E3WebApp_Emissions.raw\n",
    "    \n",
    "    cullRadius $cr\n",
    "    glslVersion 330\n",
    "\n",
    "\n",
    "    propertyCollection\n",
    "    {\n",
    "        __objectName__\n",
    "        {\n",
    "        \n",
    "            vec4f ColorMultiplier     $ColorMultiplier\n",
    "            vec3f RotationAxis        $RotationAxis\n",
    "            vec1f RotationAngle       $RotationAngle\n",
    "            \n",
    "            vec1f simBindRealtime 0. #bind the time of this model to the actual time in Uniview (0 == no, 1 == yes)\n",
    "            vec1f simUseTime 1960. #if simBindReadtime == 0, then this is the time to use (yr)\n",
    "            vec1f simDtmin 0.1 #minimum time to leave the symbol visible before fading\n",
    "            vec1f simSize 0.02 #size scale for the symbols\n",
    "            vec1f simTfade 1 #number of years over which to fade out\n",
    "            vec1f simAlphaMin 0.1 #minimum opacity after fading out\n",
    "            vec3f simVolcanoColor 1. 0.15 0. #color for the volcanoes\n",
    "            vec3f simEmissionColor 1. 1. 0. #color for the emissions\n",
    "\n",
    "        }\n",
    "\n",
    "    }\n",
    "\n",
    "\n",
    "#####################################################\n",
    "    pass #EarthMap\n",
    "    {\n",
    "        passEnable true\n",
    "\n",
    "        useDataObject panorama\n",
    "        shader\n",
    "        {\n",
    "            type defaultMeshShader\n",
    "            {\n",
    "                vertexShader   ./modules/$folderName/equirectangularPanorama.vs\n",
    "                fragmentShader ./modules/$folderName/equirectangularPanorama.fs\n",
    "                \n",
    "                texture panorama ./modules/$folderName/$panorama\n",
    "                {\n",
    "                }\n",
    "                \n",
    "\n",
    "                parameter1f Scale $Scale\n",
    "                \n",
    "                stateManagerVar __objectName__.ColorMultiplier      ColorMultiplier\n",
    "                stateManagerVar __objectName__.RotationAxis         RotationAxis\n",
    "                stateManagerVar __objectName__.RotationAngle        RotationAngle\n",
    "                stateManagerVar __objectName__.Alpha                uv_alpha\n",
    "                \n",
    "                glState\n",
    "                {\n",
    "                    UV_CULL_FACE_ENABLE false\n",
    "                    #UV_CULL_MODE GL_FRONT\n",
    "                    UV_BLEND_ENABLE true\n",
    "                    UV_BLEND_FUNC GL_SRC_ALPHA GL_ONE_MINUS_SRC_ALPHA\n",
    "                }\n",
    "            }\n",
    "\n",
    "        }    \n",
    "    }\n",
    "    \n",
    "#####################################################\n",
    "    \n",
    "    pass #Volcanoes\n",
    "    {\n",
    "        passEnable true\n",
    "\n",
    "        useDataObject vData\n",
    "\n",
    "        shader\n",
    "        {\n",
    "            type defaultMeshShader\n",
    "            {\n",
    "\n",
    "                parameter1f Scale $Scale\n",
    "                parameter1f simMarker 1\n",
    "        \n",
    "                stateManagerVar __objectName__.RotationAxis         RotationAxis\n",
    "                stateManagerVar __objectName__.RotationAngle        RotationAngle\n",
    "                stateManagerVar __objectName__.Alpha                uv_alpha\n",
    "\n",
    "                StateManagerVar __objectName__.simBindRealtime simBindRealtime\n",
    "                StateManagerVar __objectName__.simUseTime simUseTime\n",
    "                StateManagerVar __objectName__.simDtmin simdtmin\n",
    "                StateManagerVar __objectName__.simSize simSize\n",
    "                StateManagerVar __objectName__.simTfade simTfade\n",
    "                StateManagerVar __objectName__.simAlphaMin simAlphaMin\n",
    "                StateManagerVar __objectName__.simVolcanoColor simColor\n",
    "\n",
    "\n",
    "                vertexShader ./modules/$folderName/VE_shader.vs\n",
    "                fragmentShader ./modules/$folderName/VE_shader.fs                \n",
    "                geometryShader ./modules/$folderName/VE_shader.gs\n",
    "\n",
    "\n",
    "\n",
    "                glState\n",
    "                {\n",
    "                    UV_CULL_FACE_ENABLE false\n",
    "                    UV_DEPTH_ENABLE false\n",
    "                    UV_BLEND_ENABLE true\n",
    "                    UV_WRITE_MASK_DEPTH true\n",
    "                    UV_BLEND_FUNC GL_ONE GL_ONE_MINUS_SRC_ALPHA\n",
    "                    UV_LINE_WIDTH 4\n",
    "\n",
    "                }\n",
    "             }\n",
    "        }\n",
    "    }\n",
    "\n",
    "#####################################################\n",
    "    \n",
    "    pass #Emissions\n",
    "    {\n",
    "        passEnable true\n",
    "\n",
    "        useDataObject eData\n",
    "\n",
    "        shader\n",
    "        {\n",
    "            type defaultMeshShader\n",
    "            {\n",
    "\n",
    "                parameter1f Scale $Scale\n",
    "                parameter1f simMarker 0\n",
    "        \n",
    "                stateManagerVar __objectName__.RotationAxis         RotationAxis\n",
    "                stateManagerVar __objectName__.RotationAngle        RotationAngle\n",
    "                stateManagerVar __objectName__.Alpha                uv_alpha\n",
    "\n",
    "                StateManagerVar __objectName__.simBindRealtime simBindRealtime\n",
    "                StateManagerVar __objectName__.simUseTime simUseTime\n",
    "                StateManagerVar __objectName__.simDtmin simdtmin\n",
    "                StateManagerVar __objectName__.simSize simSize\n",
    "                StateManagerVar __objectName__.simTfade simTfade\n",
    "                StateManagerVar __objectName__.simAlphaMin simAlphaMin\n",
    "                StateManagerVar __objectName__.simEmissionColor simColor\n",
    "\n",
    "\n",
    "                vertexShader ./modules/$folderName/VE_shader.vs\n",
    "                fragmentShader ./modules/$folderName/VE_shader.fs                \n",
    "                geometryShader ./modules/$folderName/VE_shader.gs\n",
    "\n",
    "\n",
    "\n",
    "                glState\n",
    "                {\n",
    "                    UV_CULL_FACE_ENABLE false\n",
    "                    UV_DEPTH_ENABLE false\n",
    "                    UV_BLEND_ENABLE true\n",
    "                    UV_WRITE_MASK_DEPTH true\n",
    "                    UV_BLEND_FUNC GL_ONE GL_ONE_MINUS_SRC_ALPHA\n",
    "                    UV_LINE_WIDTH 4\n",
    "\n",
    "                }\n",
    "             }\n",
    "        }\n",
    "    }\n",
    "\n",
    "}\n",
    "\n",
    "'''"
   ]
  },
  {
   "cell_type": "markdown",
   "metadata": {},
   "source": [
    "### Volcanoes, Emissions, and Panorama Class"
   ]
  },
  {
   "cell_type": "code",
   "execution_count": 251,
   "metadata": {},
   "outputs": [],
   "source": [
    "class VEPclass():\n",
    "    def __init__(self, object):\n",
    "        self.object = object\n",
    "        uvmod.Utility.ensurerelativepathexsists(\"sphere.obj\",dataFolder)\n",
    "        uvmod.Utility.ensurerelativepathexsists(\"equirectangularPanorama.vs\",dataFolder)\n",
    "        uvmod.Utility.ensurerelativepathexsists(\"equirectangularPanorama.fs\",dataFolder)\n",
    "        uvmod.Utility.ensurerelativepathexsists(\"VE_shader.gs\",dataFolder)\n",
    "        uvmod.Utility.ensurerelativepathexsists(\"VE_shader.vs\",dataFolder)\n",
    "        uvmod.Utility.ensurerelativepathexsists(\"VE_shader.fs\",dataFolder)\n",
    "        self.panorama = \"UNINITIALIZED\"\n",
    "        self.ColorMultiplier = \"1 1 1 1\"\n",
    "        self.Scale = 1\n",
    "        self.RotationAxis = \"1 0 0\"\n",
    "        self.cr = 1000\n",
    "        self.RotationAngle = 0\n",
    "    def setPanorama(self, panorama):\n",
    "        uvmod.Utility.ensurerelativepathexsists(panorama,dataFolder)\n",
    "        self.panorama = panorama\n",
    "    def setColorMultiplier(self,ColorMultiplier):\n",
    "        self.ColorMultiplier = \" \".join(str(c) for c in ColorMultiplier)\n",
    "    def setScale(self,Scale):\n",
    "        self.Scale = Scale\n",
    "    def setRotationAxis(self,RotationAxis):\n",
    "        self.RotationAxis = \" \".join(str(c) for c in RotationAxis)\n",
    "    def setRotationAngle(self,RotationAngle):\n",
    "        self.RotationAngle = RotationAngle\n",
    "    def generatemod(self):\n",
    "        self.object.setgeometry(self.object.name+\"Mesh.usesconf\")\n",
    "        return self.object.generatemod()\n",
    "    def generatefiles(self, absOutDir, relOutDir):\n",
    "        fileName = self.object.name+\"Mesh.usesconf\"\n",
    "        s = string.Template(VEMapTemplate)\n",
    "        f = open(absOutDir+\"\\\\\"+fileName, 'w')\n",
    "        if f:\n",
    "            f.write(s.substitute(folderName = relOutDir,\n",
    "                                 cr = self.cr,\n",
    "                                 panorama = self.panorama,\n",
    "                                 ColorMultiplier = self.ColorMultiplier,\n",
    "                                 Scale = self.Scale,\n",
    "                                 RotationAxis = self.RotationAxis,\n",
    "                                 RotationAngle = self.RotationAngle))\n",
    "            f.close()\n",
    "        uvmod.Utility.copyfoldercontents(os.getcwd()+\"\\\\\"+dataFolder, absOutDir)"
   ]
  },
  {
   "cell_type": "markdown",
   "metadata": {},
   "source": [
    "### Object Instantiation"
   ]
  },
  {
   "cell_type": "code",
   "execution_count": 252,
   "metadata": {},
   "outputs": [],
   "source": [
    "VEMap = VEPclass(uvmod.OrbitalObject())\n",
    "generator = uvmod.Generator()\n",
    "scene = uvmod.Scene()\n",
    "modinfo = uvmod.ModuleInformation()"
   ]
  },
  {
   "cell_type": "markdown",
   "metadata": {},
   "source": [
    "### Specify Settings and generate the module"
   ]
  },
  {
   "cell_type": "code",
   "execution_count": 264,
   "metadata": {},
   "outputs": [],
   "source": [
    "VEMap.object.setcameraradius(10)\n",
    "VEMap.object.setcoord(\"SolarSystem\")\n",
    "VEMap.object.setname(\"VolcanoesEmissions\")\n",
    "VEMap.object.setguiname(\"/KavliLecture/Schrag/Volcanoes and Emissions\")\n",
    "VEMap.object.settargetradius(20)\n",
    "VEMap.object.showatstartup(False)\n",
    "VEMap.setPanorama(\"BlankMap-World6-Equirectangular.png\")\n",
    "VEMap.setColorMultiplier((1.,1.,1.,1.))\n",
    "VEMap.setScale(100)\n",
    "VEMap.cr = 10000\n",
    "\n",
    "\n",
    "modinfo.setname(\"Volcanoes and Emissions\")\n",
    "#modinfo.setauthor(\"Mark SubbaRao<sup>1</sup> and Lisa Kaltenegger<sup>2</sup><br />(1)Adler Planetarium,<br />(2)Cornell University<br/>panorama from:The Reefs of Belize: <br/> A co-production by the Massachusetts Institute of Technology (MIT) and the Charles Hayden Planetarium, Museum of Science\")\n",
    "modinfo.cleardependencies()\n",
    "#modinfo.adddependency(\"AlphaCent\")\n",
    "#modinfo.setdesc(\"A spherical panorama of a coral reef\")\n",
    "#modinfo.setthumbnail(\"data/TheReefsOfBelize_VR_002064.png\")\n",
    "modinfo.setversion(\"1.0\")\n",
    "\n",
    "generator.generate(\"VolcanoesEmissions\",[],[VEMap],modinfo)\n",
    "uvmod.Utility.senduvcommand(VEMap.object.name+\".reload\")\n"
   ]
  },
  {
   "cell_type": "markdown",
   "metadata": {},
   "source": [
    "### Helper Functions for modifing code\n",
    "##### Reload Module and Shaders in Uniview"
   ]
  },
  {
   "cell_type": "code",
   "execution_count": 121,
   "metadata": {
    "scrolled": true
   },
   "outputs": [
    {
     "name": "stdout",
     "output_type": "stream",
     "text": [
      "Unable to connect to Uniview\n"
     ]
    }
   ],
   "source": [
    "uvmod.Utility.senduvcommand(VEMap.object.name+\".reload\")\n"
   ]
  },
  {
   "cell_type": "markdown",
   "metadata": {},
   "source": [
    "Copy modified Shader files and reload"
   ]
  },
  {
   "cell_type": "code",
   "execution_count": 122,
   "metadata": {},
   "outputs": [],
   "source": [
    "from config import Settings\n"
   ]
  },
  {
   "cell_type": "code",
   "execution_count": 123,
   "metadata": {
    "scrolled": true
   },
   "outputs": [
    {
     "name": "stdout",
     "output_type": "stream",
     "text": [
      "Unable to connect to Uniview\n"
     ]
    }
   ],
   "source": [
    "uvmod.Utility.copyfoldercontents(os.getcwd()+\"\\\\\"+dataFolder, Settings.uvcustommodulelocation+'\\\\'+VEMap.object.name)\n",
    "uvmod.Utility.senduvcommand(VEMap.object.name+\".reload\")"
   ]
  },
  {
   "cell_type": "code",
   "execution_count": null,
   "metadata": {},
   "outputs": [],
   "source": []
  }
 ],
 "metadata": {
  "anaconda-cloud": {},
  "kernelspec": {
   "display_name": "Python 3",
   "language": "python",
   "name": "python3"
  },
  "language_info": {
   "codemirror_mode": {
    "name": "ipython",
    "version": 3
   },
   "file_extension": ".py",
   "mimetype": "text/x-python",
   "name": "python",
   "nbconvert_exporter": "python",
   "pygments_lexer": "ipython3",
   "version": "3.6.4"
  }
 },
 "nbformat": 4,
 "nbformat_minor": 1
}
