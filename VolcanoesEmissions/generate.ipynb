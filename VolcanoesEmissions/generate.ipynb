{
 "cells": [
  {
   "cell_type": "markdown",
   "metadata": {},
   "source": [
    "# Volcanoes and Emissions\n",
    "\n",
    "### Building a visualization similar to this app http://volcano.si.axismaps.io/ "
   ]
  },
  {
   "cell_type": "markdown",
   "metadata": {},
   "source": [
    "### Imports and function definitions"
   ]
  },
  {
   "cell_type": "code",
   "execution_count": 309,
   "metadata": {},
   "outputs": [],
   "source": [
    "#This directory contains all the data needed for the module. It should be in the same directory as the notebook\n",
    "dataFolder = \"data\" \n",
    "import sys, os, shutil, errno, string, urllib\n",
    "\n",
    "\n",
    "sys.path.append(( os.path.abspath( os.path.join(os.path.realpath(\"__file__\"),  os.pardir, os.pardir) )))\n",
    "import uvmodlib.v1 as uvmod"
   ]
  },
  {
   "cell_type": "markdown",
   "metadata": {},
   "source": [
    "### USES Conf Template for Equirectangular Panoramas"
   ]
  },
  {
   "cell_type": "code",
   "execution_count": 310,
   "metadata": {},
   "outputs": [],
   "source": [
    "EquiRectPanoramaTemplate = \"\"\"mesh\n",
    "{  \n",
    "    data  panaorama ./modules/$folderName/sphere.obj\n",
    "    cullRadius $cr\n",
    "    glslVersion 330\n",
    "    \n",
    "    propertyCollection \n",
    "    {        \n",
    "        __objectName__\n",
    "        {           \n",
    "            vec4f ColorMultiplier     $ColorMultiplier\n",
    "            vec3f RotationAxis        $RotationAxis\n",
    "            vec1f RotationAngle       $RotationAngle\n",
    "        }\n",
    "    }\n",
    "    pass\n",
    "    {\n",
    "        useDataObject panaorama\n",
    "        shader\n",
    "        {\n",
    "            type defaultMeshShader\n",
    "            {\n",
    "                vertexShader   ./modules/$folderName/equirectangularPanorama.vs\n",
    "                fragmentShader ./modules/$folderName/equirectangularPanorama.fs\n",
    "                \n",
    "                texture panorama ./modules/$folderName/$panorama\n",
    "                {\n",
    "                }\n",
    "                \n",
    "\n",
    "                parameter1f Scale $Scale\n",
    "                \n",
    "                stateManagerVar __objectName__.ColorMultiplier      ColorMultiplier\n",
    "                stateManagerVar __objectName__.RotationAxis         RotationAxis\n",
    "                stateManagerVar __objectName__.RotationAngle        RotationAngle\n",
    "                stateManagerVar __objectName__.Alpha                uv_alpha\n",
    "                \n",
    "                glState\n",
    "                {\n",
    "                    UV_CULL_FACE_ENABLE false\n",
    "                    #UV_CULL_MODE GL_FRONT\n",
    "                    UV_BLEND_ENABLE true\n",
    "                    UV_BLEND_FUNC GL_SRC_ALPHA GL_ONE_MINUS_SRC_ALPHA\n",
    "                }\n",
    "            }\n",
    "\n",
    "        }    \n",
    "    }\n",
    "    \n",
    "}\"\"\""
   ]
  },
  {
   "cell_type": "markdown",
   "metadata": {},
   "source": [
    "## Conf for Volcanoes and Emission data"
   ]
  },
  {
   "cell_type": "code",
   "execution_count": 311,
   "metadata": {},
   "outputs": [],
   "source": [
    "VETemplate='''mesh\n",
    "{\n",
    "    data SunData    ./modules/$folderName/MESA_1M_pre_ms_to_wd.raw\n",
    "    cullRadius $cr\n",
    "    glslVersion 330\n",
    "\n",
    "\n",
    "    propertyCollection\n",
    "    {\n",
    "        __objectName__\n",
    "        {\n",
    "            vec1f simBindRealtime 0. #bind the time of this model to the actual time in Uniview (0 == no, 1 == yes)\n",
    "            vec1f simUseTime 4500. #if simBindReadtime == 0, then this is the time to use (Myr)\n",
    "            vec1f simRealtimestart 0. #Myr\n",
    "            vec1f simRealtimeend 12000. #Myr\n",
    "            vec1f simShowstart 0.0\n",
    "            vec1f simDtmin 0.01\n",
    "\n",
    "\n",
    "        }\n",
    "\n",
    "    }\n",
    "\n",
    "\n",
    "#####################################################\n",
    "##Sun\n",
    "\n",
    "    pass #Corona\n",
    "    {\n",
    "        passEnable true\n",
    "\n",
    "        useDataObject SunData\n",
    "\n",
    "        shader\n",
    "        {\n",
    "            type defaultMeshShader\n",
    "            {\n",
    "\n",
    "\n",
    "                StateManagerVar __objectName__.simBindRealtime simBindRealtime\n",
    "                StateManagerVar __objectName__.simUseTime simUseTime\n",
    "                StateManagerVar __objectName__.simRealtimestart simRealtimestart  \n",
    "                StateManagerVar __objectName__.simRealtimeend simRealtimeend \n",
    "                StateManagerVar __objectName__.simDtmin simdtmin\n",
    "\n",
    "\n",
    "                vertexShader ./modules/$folderName/VE_shader.vs\n",
    "                fragmentShader ./modules/$folderName/VE_shader.fs                \n",
    "                geometryShader ./modules/$folderName/VE_shader.gs\n",
    "\n",
    "\n",
    "\n",
    "                glState\n",
    "                {\n",
    "                    UV_CULL_FACE_ENABLE false\n",
    "                    UV_DEPTH_ENABLE false\n",
    "                    UV_BLEND_ENABLE true\n",
    "                    UV_WRITE_MASK_DEPTH true\n",
    "                    UV_BLEND_FUNC GL_ONE GL_ONE_MINUS_SRC_ALPHA\n",
    "                }\n",
    "             }\n",
    "        }\n",
    "    }\n",
    "\n",
    "\n",
    "}\n",
    "\n",
    "'''"
   ]
  },
  {
   "cell_type": "markdown",
   "metadata": {},
   "source": [
    "### Equirectangular Panorama Class"
   ]
  },
  {
   "cell_type": "code",
   "execution_count": 312,
   "metadata": {},
   "outputs": [],
   "source": [
    "class EquiRectPanorama():\n",
    "    def __init__(self, object):\n",
    "        self.object = object\n",
    "        uvmod.Utility.ensurerelativepathexsists(\"sphere.obj\",dataFolder)\n",
    "        uvmod.Utility.ensurerelativepathexsists(\"equirectangularPanorama.vs\",dataFolder)\n",
    "        uvmod.Utility.ensurerelativepathexsists(\"equirectangularPanorama.fs\",dataFolder)\n",
    "        self.panorama = \"UNINITIALIZED\"\n",
    "        self.ColorMultiplier = \"1 1 1 1\"\n",
    "        self.Scale = 1\n",
    "        self.RotationAxis = \"1 0 0\"\n",
    "        self.cr = 1000\n",
    "        self.RotationAngle = 0\n",
    "    def setPanorama(self, panorama):\n",
    "        uvmod.Utility.ensurerelativepathexsists(panorama,dataFolder)\n",
    "        self.panorama = panorama\n",
    "    def setColorMultiplier(self,ColorMultiplier):\n",
    "        self.ColorMultiplier = \" \".join(str(c) for c in ColorMultiplier)\n",
    "    def setScale(self,Scale):\n",
    "        self.Scale = Scale\n",
    "    def setRotationAxis(self,RotationAxis):\n",
    "        self.RotationAxis = \" \".join(str(c) for c in RotationAxis)\n",
    "    def setRotationAngle(self,RotationAngle):\n",
    "        self.RotationAngle = RotationAngle\n",
    "    def generatemod(self):\n",
    "        self.object.setgeometry(self.object.name+\"Mesh.usesconf\")\n",
    "        return self.object.generatemod()\n",
    "    def generatefiles(self, absOutDir, relOutDir):\n",
    "        fileName = self.object.name+\"Mesh.usesconf\"\n",
    "        s = string.Template(EquiRectPanoramaTemplate)\n",
    "        f = open(absOutDir+\"\\\\\"+fileName, 'w')\n",
    "        if f:\n",
    "            f.write(s.substitute(folderName = relOutDir,\n",
    "                                 cr = self.cr,\n",
    "                                 panorama = self.panorama,\n",
    "                                 ColorMultiplier = self.ColorMultiplier,\n",
    "                                 Scale = self.Scale,\n",
    "                                 RotationAxis = self.RotationAxis,\n",
    "                                 RotationAngle = self.RotationAngle))\n",
    "            f.close()\n",
    "        uvmod.Utility.copyfoldercontents(os.getcwd()+\"\\\\\"+dataFolder, absOutDir)"
   ]
  },
  {
   "cell_type": "markdown",
   "metadata": {},
   "source": [
    "## Volcanoes and Emissions class"
   ]
  },
  {
   "cell_type": "code",
   "execution_count": 313,
   "metadata": {},
   "outputs": [],
   "source": [
    "class VEclass():\n",
    "    def __init__(self, object):\n",
    "        self.object = object\n",
    "        uvmod.Utility.ensurerelativepathexsists(\"VE_shader.gs\",dataFolder)\n",
    "        uvmod.Utility.ensurerelativepathexsists(\"VE_shader.vs\",dataFolder)\n",
    "        uvmod.Utility.ensurerelativepathexsists(\"VE_shader.fs\",dataFolder)\n",
    "        self.cr = 1000\n",
    "    def generatemod(self):\n",
    "        self.object.setgeometry(\"VE.usesconf\")\n",
    "        return self.object.generatemod()\n",
    "    def generatefiles(self, absOutDir, relOutDir):\n",
    "        fileName = \"VE.usesconf\"\n",
    "        s = string.Template(VETemplate)\n",
    "        f = open(absOutDir+\"\\\\\"+fileName, 'w')\n",
    "        if f:\n",
    "            f.write(s.substitute(folderName = relOutDir,\n",
    "                                 cr = self.cr))\n",
    "            f.close()\n",
    "        uvmod.Utility.copyfoldercontents(os.getcwd()+\"\\\\\"+dataFolder, absOutDir)"
   ]
  },
  {
   "cell_type": "markdown",
   "metadata": {},
   "source": [
    "### Object Instantiation"
   ]
  },
  {
   "cell_type": "code",
   "execution_count": 314,
   "metadata": {},
   "outputs": [],
   "source": [
    "EarthMap = EquiRectPanorama(uvmod.OrbitalObject())\n",
    "VEmodel = VEClass(uvmod.OrbitalObject())\n",
    "generator = uvmod.Generator()\n",
    "scene = uvmod.Scene()\n",
    "modinfo = uvmod.ModuleInformation()"
   ]
  },
  {
   "cell_type": "markdown",
   "metadata": {},
   "source": [
    "### Specify Settings and generate the module"
   ]
  },
  {
   "cell_type": "code",
   "execution_count": 319,
   "metadata": {},
   "outputs": [
    {
     "name": "stdout",
     "output_type": "stream",
     "text": [
      "Unable to connect to Uniview\n",
      "Unable to connect to Uniview\n"
     ]
    }
   ],
   "source": [
    "EarthMap.object.setcameraradius(10)\n",
    "EarthMap.object.setcoord(\"SolarSystem\")\n",
    "EarthMap.object.setname(\"EarthMap\")\n",
    "EarthMap.object.setguiname(\"/KavliLecture/Schrag/Earth Map\")\n",
    "EarthMap.object.settargetradius(20)\n",
    "EarthMap.object.showatstartup(False)\n",
    "EarthMap.setPanorama(\"BlankMap-World6-Equirectangular.png\")\n",
    "EarthMap.setColorMultiplier((1.,1.,1.,1.))\n",
    "EarthMap.setScale(100)\n",
    "EarthMap.cr = 10000\n",
    "\n",
    "VEmodel.object.setcameraradius(50)\n",
    "VEmodel.object.setcoord(\"SolarSystem\")\n",
    "VEmodel.object.setname(\"VolcanoesEmissions\")\n",
    "VEmodel.object.setguiname(\"/KavliLecture/Schrag/Volcanoes and Emissions\")\n",
    "#star.object.settargetradius(500)\n",
    "#star.object.setscalefactor(10.0)\n",
    "VEmodel.object.showatstartup(False)\n",
    "\n",
    "\n",
    "modinfo.setname(\"Volcanoes and Emissions\")\n",
    "#modinfo.setauthor(\"Mark SubbaRao<sup>1</sup> and Lisa Kaltenegger<sup>2</sup><br />(1)Adler Planetarium,<br />(2)Cornell University<br/>panorama from:The Reefs of Belize: <br/> A co-production by the Massachusetts Institute of Technology (MIT) and the Charles Hayden Planetarium, Museum of Science\")\n",
    "modinfo.cleardependencies()\n",
    "#modinfo.adddependency(\"AlphaCent\")\n",
    "#modinfo.setdesc(\"A spherical panorama of a coral reef\")\n",
    "#modinfo.setthumbnail(\"data/TheReefsOfBelize_VR_002064.png\")\n",
    "modinfo.setversion(\"1.0\")\n",
    "\n",
    "generator.generate(\"VolcanoesEmissions\",[],[EarthMap, VEmodel],modinfo)\n",
    "uvmod.Utility.senduvcommand(EarthMap.object.name+\".reload\")\n",
    "uvmod.Utility.senduvcommand(VEmodel.object.name+\".reload\")"
   ]
  },
  {
   "cell_type": "markdown",
   "metadata": {},
   "source": [
    "### Helper Functions for modifing code\n",
    "##### Reload Module and Shaders in Uniview"
   ]
  },
  {
   "cell_type": "code",
   "execution_count": 316,
   "metadata": {},
   "outputs": [
    {
     "name": "stdout",
     "output_type": "stream",
     "text": [
      "Unable to connect to Uniview\n",
      "Unable to connect to Uniview\n"
     ]
    }
   ],
   "source": [
    "uvmod.Utility.senduvcommand(EarthMap.object.name+\".reload\")\n",
    "uvmod.Utility.senduvcommand(VEmodel.object.name+\".reload\")"
   ]
  },
  {
   "cell_type": "markdown",
   "metadata": {},
   "source": [
    "Copy modified Shader files and reload"
   ]
  },
  {
   "cell_type": "code",
   "execution_count": 317,
   "metadata": {},
   "outputs": [],
   "source": [
    "from config import Settings\n"
   ]
  },
  {
   "cell_type": "code",
   "execution_count": 318,
   "metadata": {},
   "outputs": [
    {
     "name": "stdout",
     "output_type": "stream",
     "text": [
      "Unable to connect to Uniview\n"
     ]
    }
   ],
   "source": [
    "uvmod.Utility.copyfoldercontents(os.getcwd()+\"\\\\\"+dataFolder, Settings.uvcustommodulelocation+'\\\\'+VEmodel.object.name)\n",
    "uvmod.Utility.senduvcommand(VEmodel.object.name+\".reload\")"
   ]
  },
  {
   "cell_type": "code",
   "execution_count": null,
   "metadata": {},
   "outputs": [],
   "source": []
  }
 ],
 "metadata": {
  "anaconda-cloud": {},
  "kernelspec": {
   "display_name": "Python 3",
   "language": "python",
   "name": "python3"
  },
  "language_info": {
   "codemirror_mode": {
    "name": "ipython",
    "version": 3
   },
   "file_extension": ".py",
   "mimetype": "text/x-python",
   "name": "python",
   "nbconvert_exporter": "python",
   "pygments_lexer": "ipython3",
   "version": "3.6.4"
  }
 },
 "nbformat": 4,
 "nbformat_minor": 1
}
